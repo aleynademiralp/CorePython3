{
 "cells": [
  {
   "cell_type": "markdown",
   "metadata": {},
   "source": [
    "# Problem 1\n",
    "`ogrenciler` adında bir sözlük oluşturunuz. Kullanıcıdan döngü yardımıyla 3 öğrenci için veri girmesini isteyerek öğrencilerin sırasıyla okul numarası, isim, soy isim, telefon numarası ve doğum tarihi bilgilerini alınız. Aldığınız öğrenci bilgilerini yine aynı döngü yardımıyla `ogrenciler` adındaki sözlükte saklayınız. Daha sonra öğrenci bilgilerinin bulunduğu sözlük yapısını ekrana bastırınız.\n",
    "\n"
   ]
  },
  {
   "cell_type": "code",
   "execution_count": 16,
   "metadata": {},
   "outputs": [
    {
     "name": "stdout",
     "output_type": "stream",
     "text": [
      "1. öğrenci bilgilerini giriniz:\n",
      "2. öğrenci bilgilerini giriniz:\n",
      "3. öğrenci bilgilerini giriniz:\n",
      "\n",
      "Öğrenci Bilgileri:\n",
      "Okul Numarası: 123\n",
      "  Isim: aleyna\n",
      "  Soyisim: demiralp\n",
      "  Telefon_numarasi: 5516580848\n",
      "  Dogum_tarihi: 17012003\n",
      "\n",
      "Okul Numarası: 234\n",
      "  Isim: efe\n",
      "  Soyisim: saygın\n",
      "  Telefon_numarasi: 5516580838\n",
      "  Dogum_tarihi: 25072009\n",
      "\n",
      "Okul Numarası: 345\n",
      "  Isim: defne\n",
      "  Soyisim: aydın\n",
      "  Telefon_numarasi: 5516580868\n",
      "  Dogum_tarihi: 23072006\n",
      "\n"
     ]
    }
   ],
   "source": [
    "\n",
    "ogrenciler = {}\n",
    "\n",
    "for i in range(3):\n",
    "    print(f\"{i+1}. öğrenci bilgilerini giriniz:\")\n",
    "\n",
    "    okul_numarasi = input(\"Okul Numarası: \")\n",
    "    isim = input(\"İsim: \")\n",
    "    soyisim = input(\"Soy İsim: \")\n",
    "    telefon_numarasi = input(\"Telefon Numarası: \")\n",
    "    dogum_tarihi = input(\"Doğum Tarihi (gg/aa/yyyy): \")\n",
    "\n",
    "    ogrenciler[okul_numarasi] = {\n",
    "        'isim': isim,\n",
    "        'soyisim': soyisim,\n",
    "        'telefon_numarasi': telefon_numarasi,\n",
    "        'dogum_tarihi': dogum_tarihi\n",
    "    }\n",
    "\n",
    "print(\"\\nÖğrenci Bilgileri:\")\n",
    "for okul_numarasi, bilgiler in ogrenciler.items():\n",
    "    print(f\"Okul Numarası: {okul_numarasi}\")\n",
    "    for key, value in bilgiler.items():\n",
    "        print(f\"  {key.capitalize()}: {value}\")\n",
    "    print()"
   ]
  },
  {
   "cell_type": "markdown",
   "metadata": {},
   "source": [
    "# Problem 2\n",
    "\n",
    "### a - Biraz ısınarak başlayalım!\n",
    "\n",
    "```\n",
    "numbers = [5,10,10,15,15,15,20,20,20,20]\n",
    "```\n",
    "\n",
    "Yukarıda `numbers` adında 10 elemanlı bir liste verilmiştir. Bu listenin her elemanını kontrol eden ve tekrar eden elemanları bir kez olacak şekilde başka bir listeye kopyalayan bir program yazınız. Son olarak oluşturduğunuz listeyi ekrana bastırınız.\n",
    "\n",
    "\n",
    "\n",
    "\n",
    "```\n",
    ">Output\n",
    "[5, 10, 15, 20]\n",
    "```\n"
   ]
  },
  {
   "cell_type": "code",
   "execution_count": 17,
   "metadata": {},
   "outputs": [
    {
     "name": "stdout",
     "output_type": "stream",
     "text": [
      "[5, 10, 15, 20]\n"
     ]
    }
   ],
   "source": [
    "numbers = [5, 10, 10, 15, 15, 15, 20, 20, 20, 20]\n",
    "\n",
    "\n",
    "uniqueNumbers = list(set(numbers))\n",
    "\n",
    "\n",
    "uniqueNumbers.sort(key=numbers.index)\n",
    "\n",
    "\n",
    "print(uniqueNumbers)"
   ]
  },
  {
   "cell_type": "markdown",
   "metadata": {},
   "source": [
    "### 🌶️ b) Hadi işi biraz daha zorlaştıralım! \n",
    "\n",
    "\n",
    "Şimdiyse senden `numbers` isimli listedeki tekrar eden elemanları `repeatNumbers` adındaki listeye; tekrar etmeyen elemanları `uniqueNumbers`adındaki listeye kopyalayan yazmanı ve listeleri ekrana bastırmanı bekliyoruz\n",
    "\n",
    "```\n",
    ">Output\n",
    "Tekrar Eden Elemanlar: [10, 10, 15, 15, 15, 20, 20, 20, 20]\n",
    "Tekrar Etmeyen Elemanlar: [5]\n",
    "```"
   ]
  },
  {
   "cell_type": "code",
   "execution_count": 18,
   "metadata": {},
   "outputs": [
    {
     "name": "stdout",
     "output_type": "stream",
     "text": [
      "Tekrar Eden Elemanlar: [10, 10, 15, 15, 15, 20, 20, 20, 20]\n",
      "Tekrar Etmeyen Elemanlar: [5]\n"
     ]
    }
   ],
   "source": [
    "numbers = [5, 10, 10, 15, 15, 15, 20, 20, 20, 20]\n",
    "\n",
    "repeatNumbers = []\n",
    "uniqueNumbers = []\n",
    "\n",
    "count = {}\n",
    "\n",
    "for num in numbers:\n",
    "    if num in count:\n",
    "        count[num] += 1\n",
    "    else:\n",
    "        count[num] = 1\n",
    "\n",
    "for num, c in count.items():\n",
    "    if c > 1:\n",
    "        repeatNumbers.extend([num] * c)\n",
    "    else:\n",
    "        uniqueNumbers.append(num)\n",
    "\n",
    "\n",
    "print(\"Tekrar Eden Elemanlar:\", repeatNumbers)\n",
    "print(\"Tekrar Etmeyen Elemanlar:\", uniqueNumbers)"
   ]
  },
  {
   "cell_type": "markdown",
   "metadata": {},
   "source": [
    "# Problem 3\n",
    "sn1 = {1,2,3,4,5}\n",
    "\n",
    "sn2 = {4,5,6,7,8}\n",
    "\n",
    " Verilen 2 adet küme için kesişimlerini, farklarını ve birleşimlerini bulunuz. "
   ]
  },
  {
   "cell_type": "code",
   "execution_count": 19,
   "metadata": {},
   "outputs": [
    {
     "name": "stdout",
     "output_type": "stream",
     "text": [
      "kesişim: {4, 5}\n",
      "fark: {1, 2, 3}\n",
      "birleşim: {1, 2, 3, 4, 5, 6, 7, 8}\n"
     ]
    }
   ],
   "source": [
    "\n",
    "sn1 = {1,2,3,4,5}\n",
    "sn2 = {4,5,6,7,8}\n",
    "\n",
    "print(\"kesişim:\", sn1.intersection(sn2))\n",
    "\n",
    "print(\"fark:\", sn1.difference(sn2))\n",
    "\n",
    "print(\"birleşim:\", sn1.union(sn2))"
   ]
  },
  {
   "cell_type": "markdown",
   "metadata": {},
   "source": [
    "# Problem 4\n",
    "\n",
    "Buradaki işlemlerimizin tamamı stringler içindir. Aşağıda verilecek olan metodlar için kendinizin örnek yaratması gerekmektedir. \n",
    "\n",
    "Örneğin `upper` için `string` değişkeni oluştururken` k = \"BAC\"` şeklinde oluşturmayınız. Bunun yerine k değişkenini `k = \"bac`\" şeklinde oluşturmanız `upper` metodundaki değişimi görebilmeniz için daha iyi olacaktır.\n",
    "\n",
    "Bütün metodlardaki değişimin gözle görülür şekilde değişimi beklenmektedir.\n",
    "\n",
    "\n",
    "1- capitalize(), lower(), upper(), swapcase(), title(), replace()\n",
    "\n",
    "2- endswith(), startswith(), find(), index(), count()\n",
    "\n",
    "3- split(), strip(), join(), islower(), isalpha(), isdigit()\n",
    "\n",
    "\n",
    "Yukarıdaki `string` metodlarındaki değişimleri görebildiğimiz bir program yazınız.\n"
   ]
  },
  {
   "cell_type": "code",
   "execution_count": 20,
   "metadata": {},
   "outputs": [
    {
     "name": "stdout",
     "output_type": "stream",
     "text": [
      "BAC\n",
      "Bac\n",
      "bac\n",
      "BAC\n",
      "Bac\n",
      "bAc\n",
      "True\n",
      "True\n",
      "1\n",
      "1\n",
      "1\n"
     ]
    }
   ],
   "source": [
    "\n",
    "k = \"bac\"\n",
    "\n",
    "k.upper()\n",
    "print(k.upper())\n",
    "\n",
    "k.capitalize()\n",
    "print(k.capitalize())\n",
    "\n",
    "k.lower()\n",
    "print(k.lower())\n",
    "\n",
    "k.swapcase()\n",
    "print(k.swapcase())\n",
    "\n",
    "k.title()\n",
    "print(k.title())\n",
    "\n",
    "k.replace(\"a\", \"A\")\n",
    "print(k.replace(\"a\", \"A\"))\n",
    "\n",
    "k.endswith(\"c\")\n",
    "print(k.endswith(\"c\"))\n",
    "\n",
    "k.startswith(\"b\")\n",
    "print(k.startswith(\"b\"))\n",
    "\n",
    "k.find(\"a\")\n",
    "print(k.find(\"a\"))\n",
    "\n",
    "k.index(\"a\")\n",
    "print(k.index(\"a\"))\n",
    "\n",
    "k.count(\"a\")\n",
    "print(k.count(\"a\"))"
   ]
  }
 ],
 "metadata": {
  "kernelspec": {
   "display_name": "Python 3.10.5 64-bit",
   "language": "python",
   "name": "python3"
  },
  "language_info": {
   "codemirror_mode": {
    "name": "ipython",
    "version": 3
   },
   "file_extension": ".py",
   "mimetype": "text/x-python",
   "name": "python",
   "nbconvert_exporter": "python",
   "pygments_lexer": "ipython3",
   "version": "3.12.3"
  },
  "orig_nbformat": 4,
  "vscode": {
   "interpreter": {
    "hash": "5026d2d6e7aaaaba093def813beadff083d8733e4a511af01735cbabd156995d"
   }
  }
 },
 "nbformat": 4,
 "nbformat_minor": 2
}
