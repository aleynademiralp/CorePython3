{
 "cells": [
  {
   "attachments": {},
   "cell_type": "markdown",
   "metadata": {},
   "source": [
    "# Problem 1 "
   ]
  },
  {
   "cell_type": "code",
   "execution_count": 1,
   "metadata": {},
   "outputs": [
    {
     "name": "stdout",
     "output_type": "stream",
     "text": [
      "[1 2 3 4 5]\n",
      "[1 2 3 4 5]\n"
     ]
    }
   ],
   "source": [
    "\n",
    "import numpy as np\n",
    "\n",
    "arr = np.array([1,2,3,4,5])\n",
    "print(arr)\n",
    "\n",
    "\n",
    "print(np.sort(arr))\n"
   ]
  },
  {
   "attachments": {},
   "cell_type": "markdown",
   "metadata": {},
   "source": [
    "# Problem 2"
   ]
  },
  {
   "cell_type": "code",
   "execution_count": 5,
   "metadata": {},
   "outputs": [
    {
     "name": "stdout",
     "output_type": "stream",
     "text": [
      "[10 15 30 45 60]\n",
      "[ 5  6  7  8  9 10 11 12 13 14]\n",
      "[50 55 60 65 70 75 80 85 90 95]\n",
      "[0. 0. 0. 0. 0. 0. 0. 0. 0. 0.]\n",
      "[1. 1. 1. 1. 1. 1. 1. 1. 1. 1.]\n",
      "[  0.  25.  50.  75. 100.]\n",
      "[21 23 29 10 15]\n",
      "[ 0.49314707  0.65254907 -0.17305295 -0.20888815  0.59692039 -0.10140402\n",
      " -0.16673494 -0.59652822 -0.44997699  0.60574957]\n",
      "[[22 30 27 27 27]\n",
      " [45 28 36 16 11]\n",
      " [40 40 39 17 11]]\n",
      "[133 136 147]\n",
      "[107  98 102  60  49]\n",
      "45\n",
      "11\n",
      "27.733333333333334\n",
      "5\n",
      "[10 11 12]\n",
      "[[40 40 39 17 11]\n",
      " [45 28 36 16 11]\n",
      " [22 30 27 27 27]]\n",
      "[22 30 27 27 27]\n",
      "17\n",
      "[22 45 40]\n",
      "[[ 484  900  729  729  729]\n",
      " [2025  784 1296  256  121]\n",
      " [1600 1600 1521  289  121]]\n",
      "[32 18 18 38  8 16  2  8 28 40 16 18 16 44 26 18 46  4 28 10 38 18 38 42\n",
      " 24]\n"
     ]
    }
   ],
   "source": [
    "arr = np.array([10,15,30,45,60])\n",
    "print(arr)\n",
    "\n",
    "\n",
    "\n",
    "arr = np.arange(5,15)\n",
    "print(arr)\n",
    "\n",
    "\n",
    "arr = np.arange(50,100,5)\n",
    "print(arr)\n",
    "\n",
    "\n",
    "\n",
    "arr = np.zeros(10)\n",
    "print(arr)\n",
    "\n",
    "\n",
    "\n",
    "arr = np.ones(10)\n",
    "print(arr)\n",
    "\n",
    "\n",
    "\n",
    "arr = np.linspace(0,100,5)\n",
    "print(arr)\n",
    "\n",
    "\n",
    "\n",
    "arr = np.random.randint(10,30,5)\n",
    "print(arr)\n",
    "\n",
    "\n",
    "\n",
    "arr = np.random.uniform(-1,1,10)\n",
    "print(arr)\n",
    "\n",
    "\n",
    "\n",
    "arr = np.random.randint(10,50,15).reshape(3,5)\n",
    "print(arr)\n",
    "\n",
    "\n",
    "\n",
    "print(arr.sum(axis=1))\n",
    "print(arr.sum(axis=0))\n",
    "\n",
    "\n",
    "\n",
    "print(arr.max())\n",
    "print(arr.min())\n",
    "print(arr.mean())\n",
    "\n",
    "\n",
    "\n",
    "print(arr.argmax())\n",
    "\n",
    "\n",
    "\n",
    "arr1 = np.arange(10,20)\n",
    "print(arr1[:3])\n",
    "\n",
    "\n",
    "\n",
    "print(arr[::-1])\n",
    "\n",
    "\n",
    "\n",
    "print(arr[0])\n",
    "\n",
    "\n",
    "\n",
    "print(arr[2,3]) \n",
    "\n",
    "\n",
    "\n",
    "print(arr[:,0])\n",
    "\n",
    "\n",
    "print(arr**2)\n",
    "\n",
    "\n",
    "\n",
    "arr = np.random.randint(-50,50,100)\n",
    "print(arr[(arr>0) & (arr%2==0)])"
   ]
  }
 ],
 "metadata": {
  "kernelspec": {
   "display_name": "Python 3",
   "language": "python",
   "name": "python3"
  },
  "language_info": {
   "codemirror_mode": {
    "name": "ipython",
    "version": 3
   },
   "file_extension": ".py",
   "mimetype": "text/x-python",
   "name": "python",
   "nbconvert_exporter": "python",
   "pygments_lexer": "ipython3",
   "version": "3.12.3"
  },
  "orig_nbformat": 4,
  "vscode": {
   "interpreter": {
    "hash": "5026d2d6e7aaaaba093def813beadff083d8733e4a511af01735cbabd156995d"
   }
  }
 },
 "nbformat": 4,
 "nbformat_minor": 2
}
