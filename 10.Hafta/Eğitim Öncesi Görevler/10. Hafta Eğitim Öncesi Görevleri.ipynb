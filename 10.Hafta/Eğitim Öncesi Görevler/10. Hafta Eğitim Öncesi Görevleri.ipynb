{
 "cells": [
  {
   "attachments": {},
   "cell_type": "markdown",
   "metadata": {},
   "source": [
    "# Problem 1"
   ]
  },
  {
   "cell_type": "code",
   "execution_count": 3,
   "metadata": {},
   "outputs": [
    {
     "name": "stdout",
     "output_type": "stream",
     "text": [
      "[3 9 5 7 9]\n",
      "(5,)\n",
      "[[3 9 5 7 9]]\n",
      "2\n"
     ]
    }
   ],
   "source": [
    "\n",
    "\n",
    "import numpy as np\n",
    "\n",
    "matris = np.random.randint(0, 11, 5)\n",
    "print(matris)\n",
    "\n",
    "print( matris.shape)\n",
    "\n",
    "yeni_matris = matris.reshape(1, 5)\n",
    "print(yeni_matris)\n",
    "\n",
    "print(yeni_matris.ndim)\n",
    "\n"
   ]
  },
  {
   "attachments": {},
   "cell_type": "markdown",
   "metadata": {},
   "source": [
    "# Problem 2"
   ]
  },
  {
   "cell_type": "code",
   "execution_count": 4,
   "metadata": {},
   "outputs": [
    {
     "name": "stdout",
     "output_type": "stream",
     "text": [
      "[[1 7 9]\n",
      " [3 5 5]]\n",
      "[[1 7]\n",
      " [3 5]]\n",
      "[[9]\n",
      " [5]]\n",
      "[[1 7 9]\n",
      " [3 5 5]]\n"
     ]
    }
   ],
   "source": [
    "\n",
    "import numpy as np\n",
    "matris = np.random.choice([1, 3, 5, 7, 9], size=(2, 3))\n",
    "print(matris)\n",
    "\n",
    "parca1 = matris[:, :2]\n",
    "parca2 = matris[:, 2:]\n",
    "print(parca1)\n",
    "print(parca2)\n",
    "\n",
    "birlesmis_matris = np.concatenate((parca1, parca2), axis=1)\n",
    "print(birlesmis_matris)\n",
    "\n",
    "\n",
    "\n",
    "\n"
   ]
  },
  {
   "attachments": {},
   "cell_type": "markdown",
   "metadata": {},
   "source": [
    "# Problem 3"
   ]
  },
  {
   "cell_type": "code",
   "execution_count": 6,
   "metadata": {},
   "outputs": [
    {
     "name": "stdout",
     "output_type": "stream",
     "text": [
      "[[24 93 56 39 79]\n",
      " [81  7 55 77 72]]\n"
     ]
    },
    {
     "data": {
      "text/plain": [
       "10"
      ]
     },
     "execution_count": 6,
     "metadata": {},
     "output_type": "execute_result"
    }
   ],
   "source": [
    "\n",
    "matris = np.random.randint(5, 101, size=(2, 5))\n",
    "print(matris)\n",
    "\n",
    "\n",
    "matris.shape\n",
    "matris.ndim\n",
    "matris.size\n"
   ]
  }
 ],
 "metadata": {
  "kernelspec": {
   "display_name": "Python 3",
   "language": "python",
   "name": "python3"
  },
  "language_info": {
   "codemirror_mode": {
    "name": "ipython",
    "version": 3
   },
   "file_extension": ".py",
   "mimetype": "text/x-python",
   "name": "python",
   "nbconvert_exporter": "python",
   "pygments_lexer": "ipython3",
   "version": "3.12.3"
  },
  "orig_nbformat": 4,
  "vscode": {
   "interpreter": {
    "hash": "5026d2d6e7aaaaba093def813beadff083d8733e4a511af01735cbabd156995d"
   }
  }
 },
 "nbformat": 4,
 "nbformat_minor": 2
}
